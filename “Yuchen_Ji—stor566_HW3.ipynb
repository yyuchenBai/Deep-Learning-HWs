{
  "nbformat": 4,
  "nbformat_minor": 0,
  "metadata": {
    "colab": {
      "provenance": [],
      "collapsed_sections": []
    },
    "kernelspec": {
      "name": "python3",
      "display_name": "Python 3"
    },
    "language_info": {
      "name": "python"
    },
    "widgets": {
      "application/vnd.jupyter.widget-state+json": {
        "7cad196792404d77bf5aeb4e4eca8de8": {
          "model_module": "@jupyter-widgets/controls",
          "model_name": "HBoxModel",
          "model_module_version": "1.5.0",
          "state": {
            "_dom_classes": [],
            "_model_module": "@jupyter-widgets/controls",
            "_model_module_version": "1.5.0",
            "_model_name": "HBoxModel",
            "_view_count": null,
            "_view_module": "@jupyter-widgets/controls",
            "_view_module_version": "1.5.0",
            "_view_name": "HBoxView",
            "box_style": "",
            "children": [
              "IPY_MODEL_f0510d2e3d234247806eaae036994c64",
              "IPY_MODEL_490d2c7768ce4310985e350e65e215e5",
              "IPY_MODEL_a34cf05b7e7b4f9396b46f636a464cee"
            ],
            "layout": "IPY_MODEL_55274d89a0824186afecf1e985bb03ca"
          }
        },
        "f0510d2e3d234247806eaae036994c64": {
          "model_module": "@jupyter-widgets/controls",
          "model_name": "HTMLModel",
          "model_module_version": "1.5.0",
          "state": {
            "_dom_classes": [],
            "_model_module": "@jupyter-widgets/controls",
            "_model_module_version": "1.5.0",
            "_model_name": "HTMLModel",
            "_view_count": null,
            "_view_module": "@jupyter-widgets/controls",
            "_view_module_version": "1.5.0",
            "_view_name": "HTMLView",
            "description": "",
            "description_tooltip": null,
            "layout": "IPY_MODEL_63f2485d58a94ec3a94282400d1b7ab3",
            "placeholder": "​",
            "style": "IPY_MODEL_4e2ccc2e71f540adb2d9df4d7abb1a98",
            "value": "100%"
          }
        },
        "490d2c7768ce4310985e350e65e215e5": {
          "model_module": "@jupyter-widgets/controls",
          "model_name": "FloatProgressModel",
          "model_module_version": "1.5.0",
          "state": {
            "_dom_classes": [],
            "_model_module": "@jupyter-widgets/controls",
            "_model_module_version": "1.5.0",
            "_model_name": "FloatProgressModel",
            "_view_count": null,
            "_view_module": "@jupyter-widgets/controls",
            "_view_module_version": "1.5.0",
            "_view_name": "ProgressView",
            "bar_style": "success",
            "description": "",
            "description_tooltip": null,
            "layout": "IPY_MODEL_47ce11949b1b4d2780c49c139e9fd61e",
            "max": 5082095,
            "min": 0,
            "orientation": "horizontal",
            "style": "IPY_MODEL_923ff8b7c4f4491f9d4669a730187250",
            "value": 5082095
          }
        },
        "a34cf05b7e7b4f9396b46f636a464cee": {
          "model_module": "@jupyter-widgets/controls",
          "model_name": "HTMLModel",
          "model_module_version": "1.5.0",
          "state": {
            "_dom_classes": [],
            "_model_module": "@jupyter-widgets/controls",
            "_model_module_version": "1.5.0",
            "_model_name": "HTMLModel",
            "_view_count": null,
            "_view_module": "@jupyter-widgets/controls",
            "_view_module_version": "1.5.0",
            "_view_name": "HTMLView",
            "description": "",
            "description_tooltip": null,
            "layout": "IPY_MODEL_5b3c074447bf43daac896d92bb554dfe",
            "placeholder": "​",
            "style": "IPY_MODEL_d00cdf2b01fd403aa97560fe07152c38",
            "value": " 4.85M/4.85M [00:00&lt;00:00, 18.1MB/s]"
          }
        },
        "55274d89a0824186afecf1e985bb03ca": {
          "model_module": "@jupyter-widgets/base",
          "model_name": "LayoutModel",
          "model_module_version": "1.2.0",
          "state": {
            "_model_module": "@jupyter-widgets/base",
            "_model_module_version": "1.2.0",
            "_model_name": "LayoutModel",
            "_view_count": null,
            "_view_module": "@jupyter-widgets/base",
            "_view_module_version": "1.2.0",
            "_view_name": "LayoutView",
            "align_content": null,
            "align_items": null,
            "align_self": null,
            "border": null,
            "bottom": null,
            "display": null,
            "flex": null,
            "flex_flow": null,
            "grid_area": null,
            "grid_auto_columns": null,
            "grid_auto_flow": null,
            "grid_auto_rows": null,
            "grid_column": null,
            "grid_gap": null,
            "grid_row": null,
            "grid_template_areas": null,
            "grid_template_columns": null,
            "grid_template_rows": null,
            "height": null,
            "justify_content": null,
            "justify_items": null,
            "left": null,
            "margin": null,
            "max_height": null,
            "max_width": null,
            "min_height": null,
            "min_width": null,
            "object_fit": null,
            "object_position": null,
            "order": null,
            "overflow": null,
            "overflow_x": null,
            "overflow_y": null,
            "padding": null,
            "right": null,
            "top": null,
            "visibility": null,
            "width": null
          }
        },
        "63f2485d58a94ec3a94282400d1b7ab3": {
          "model_module": "@jupyter-widgets/base",
          "model_name": "LayoutModel",
          "model_module_version": "1.2.0",
          "state": {
            "_model_module": "@jupyter-widgets/base",
            "_model_module_version": "1.2.0",
            "_model_name": "LayoutModel",
            "_view_count": null,
            "_view_module": "@jupyter-widgets/base",
            "_view_module_version": "1.2.0",
            "_view_name": "LayoutView",
            "align_content": null,
            "align_items": null,
            "align_self": null,
            "border": null,
            "bottom": null,
            "display": null,
            "flex": null,
            "flex_flow": null,
            "grid_area": null,
            "grid_auto_columns": null,
            "grid_auto_flow": null,
            "grid_auto_rows": null,
            "grid_column": null,
            "grid_gap": null,
            "grid_row": null,
            "grid_template_areas": null,
            "grid_template_columns": null,
            "grid_template_rows": null,
            "height": null,
            "justify_content": null,
            "justify_items": null,
            "left": null,
            "margin": null,
            "max_height": null,
            "max_width": null,
            "min_height": null,
            "min_width": null,
            "object_fit": null,
            "object_position": null,
            "order": null,
            "overflow": null,
            "overflow_x": null,
            "overflow_y": null,
            "padding": null,
            "right": null,
            "top": null,
            "visibility": null,
            "width": null
          }
        },
        "4e2ccc2e71f540adb2d9df4d7abb1a98": {
          "model_module": "@jupyter-widgets/controls",
          "model_name": "DescriptionStyleModel",
          "model_module_version": "1.5.0",
          "state": {
            "_model_module": "@jupyter-widgets/controls",
            "_model_module_version": "1.5.0",
            "_model_name": "DescriptionStyleModel",
            "_view_count": null,
            "_view_module": "@jupyter-widgets/base",
            "_view_module_version": "1.2.0",
            "_view_name": "StyleView",
            "description_width": ""
          }
        },
        "47ce11949b1b4d2780c49c139e9fd61e": {
          "model_module": "@jupyter-widgets/base",
          "model_name": "LayoutModel",
          "model_module_version": "1.2.0",
          "state": {
            "_model_module": "@jupyter-widgets/base",
            "_model_module_version": "1.2.0",
            "_model_name": "LayoutModel",
            "_view_count": null,
            "_view_module": "@jupyter-widgets/base",
            "_view_module_version": "1.2.0",
            "_view_name": "LayoutView",
            "align_content": null,
            "align_items": null,
            "align_self": null,
            "border": null,
            "bottom": null,
            "display": null,
            "flex": null,
            "flex_flow": null,
            "grid_area": null,
            "grid_auto_columns": null,
            "grid_auto_flow": null,
            "grid_auto_rows": null,
            "grid_column": null,
            "grid_gap": null,
            "grid_row": null,
            "grid_template_areas": null,
            "grid_template_columns": null,
            "grid_template_rows": null,
            "height": null,
            "justify_content": null,
            "justify_items": null,
            "left": null,
            "margin": null,
            "max_height": null,
            "max_width": null,
            "min_height": null,
            "min_width": null,
            "object_fit": null,
            "object_position": null,
            "order": null,
            "overflow": null,
            "overflow_x": null,
            "overflow_y": null,
            "padding": null,
            "right": null,
            "top": null,
            "visibility": null,
            "width": null
          }
        },
        "923ff8b7c4f4491f9d4669a730187250": {
          "model_module": "@jupyter-widgets/controls",
          "model_name": "ProgressStyleModel",
          "model_module_version": "1.5.0",
          "state": {
            "_model_module": "@jupyter-widgets/controls",
            "_model_module_version": "1.5.0",
            "_model_name": "ProgressStyleModel",
            "_view_count": null,
            "_view_module": "@jupyter-widgets/base",
            "_view_module_version": "1.2.0",
            "_view_name": "StyleView",
            "bar_color": null,
            "description_width": ""
          }
        },
        "5b3c074447bf43daac896d92bb554dfe": {
          "model_module": "@jupyter-widgets/base",
          "model_name": "LayoutModel",
          "model_module_version": "1.2.0",
          "state": {
            "_model_module": "@jupyter-widgets/base",
            "_model_module_version": "1.2.0",
            "_model_name": "LayoutModel",
            "_view_count": null,
            "_view_module": "@jupyter-widgets/base",
            "_view_module_version": "1.2.0",
            "_view_name": "LayoutView",
            "align_content": null,
            "align_items": null,
            "align_self": null,
            "border": null,
            "bottom": null,
            "display": null,
            "flex": null,
            "flex_flow": null,
            "grid_area": null,
            "grid_auto_columns": null,
            "grid_auto_flow": null,
            "grid_auto_rows": null,
            "grid_column": null,
            "grid_gap": null,
            "grid_row": null,
            "grid_template_areas": null,
            "grid_template_columns": null,
            "grid_template_rows": null,
            "height": null,
            "justify_content": null,
            "justify_items": null,
            "left": null,
            "margin": null,
            "max_height": null,
            "max_width": null,
            "min_height": null,
            "min_width": null,
            "object_fit": null,
            "object_position": null,
            "order": null,
            "overflow": null,
            "overflow_x": null,
            "overflow_y": null,
            "padding": null,
            "right": null,
            "top": null,
            "visibility": null,
            "width": null
          }
        },
        "d00cdf2b01fd403aa97560fe07152c38": {
          "model_module": "@jupyter-widgets/controls",
          "model_name": "DescriptionStyleModel",
          "model_module_version": "1.5.0",
          "state": {
            "_model_module": "@jupyter-widgets/controls",
            "_model_module_version": "1.5.0",
            "_model_name": "DescriptionStyleModel",
            "_view_count": null,
            "_view_module": "@jupyter-widgets/base",
            "_view_module_version": "1.2.0",
            "_view_name": "StyleView",
            "description_width": ""
          }
        }
      }
    }
  },
  "cells": [
    {
      "cell_type": "markdown",
      "source": [
        "# STOR 566, Homework 3\n",
        "### Instructor: Yao Li\n",
        "### Keywords: LSTM, SST2\n",
        "### Due date: Oct 02, 11:55pm\n",
        "### **Submission Instruction**\n",
        "\n",
        "- Please download this script and use it to answer the questions in the homework. \n",
        "- For submission, please include your code, code output and answers in the script and submit the ipynb file on sakai.\n",
        "- Please don't modify existing cells. But you can add cells between the exercise statements.\n",
        "- To make markdown, please switch the cell type to markdown (from code) - you can hit 'm' when you are in command mode - and use the markdown language. For a brief tutorial see: https://daringfireball.net/projects/markdown/syntax\n",
        "\n",
        "### **References:**\n",
        "\n",
        "- You can follow the setup instructions at [here](https://pytorch.org/get-started/locally/).\n",
        "- A useful tutorial on learning pytorch by examples at [here](https://pytorch.org/tutorials/beginner/pytorch_with_examples.html).\n",
        "- Check Pytorch optimization methods at [here](https://pytorch.org/docs/stable/optim.html).\n",
        "- Check Torchtext tutorial at [here](https://pytorch.org/text/stable/tutorials/sst2_classification_non_distributed.html).\n",
        "\n",
        "\n",
        "### **Evaluation Metrics of Classifiers:**\n",
        "\n",
        "- Average Test Loss (based on the test set): \n",
        "    \\begin{align}\n",
        "\t  \\frac{1}{B}\\sum_{b=1}^B {\\text loss}_b\n",
        "\t  \\end{align}\n",
        "    \n",
        "    - $B$: the total number of batches from the test set\n",
        "    - loss$_b$: the loss of $b$-th batch\n",
        "    - Note: loss$_b$=criteria(output, target), where criteria is the loss function you use.\n",
        "\n",
        "- Testing accuracy: \n",
        "\t\\begin{align}\n",
        "\t\\frac{1}{N}\\sum_{i=1}^N {\\bf 1}(\\hat{y}_i=y_i)\n",
        "\t\\end{align}\t\n",
        "    - $N$: the total number of samples in the testing set\n",
        "    - $y_i$: true label of sample $i$\n",
        "    - $\\hat{y}_i$: predicted label by the model"
      ],
      "metadata": {
        "id": "IEI2-l1aTd76"
      }
    },
    {
      "cell_type": "markdown",
      "source": [
        "## Problem 1 (100 points)\n",
        "\n",
        "In this problem you will practice implementing LSTM on SST2 data set to do sentiment analysis (binary classification of positive vs. negative).\n",
        "\n",
        "**Data.** You will use SST2 dataset. Pytorch/torchdata has provide a useful dataloader to automatically download and load the data into batches. In this homework, you need two class, positive and negative, for binary classification. Code of the data loader has been provided in the template. You can modify the data loading part to use different tokenizer."
      ],
      "metadata": {
        "id": "0dfB-w80VX8M"
      }
    },
    {
      "cell_type": "code",
      "source": [
        "\n",
        "# You need package torchdata for this homework\n",
        "# To avoid loading it every time, you can install torchdata to a path on google drive\n",
        "import os\n",
        "from google.colab import drive\n",
        "drive.mount('/content/drive')\n",
        "pkg_path = '/content/drive/MyDrive/DIR_FOR_PKGS'\n",
        "!pip install --target=$pkg_path torchdata\n",
        "\n",
        "# Append the path to the sys path to load the pkg without re-installation\n",
        "import sys\n",
        "pkg_path = '/content/drive/MyDrive/DIR_FOR_PKGS'\n",
        "sys.path.append(pkg_path)\n",
        "#import torchdata\n"
      ],
      "metadata": {
        "id": "vyps0ASzWrIR",
        "colab": {
          "base_uri": "https://localhost:8080/"
        },
        "outputId": "9d7e6c5c-e1da-4dd4-88eb-acd530ed20df"
      },
      "execution_count": 3,
      "outputs": [
        {
          "output_type": "stream",
          "name": "stdout",
          "text": [
            "Mounted at /content/drive\n",
            "Looking in indexes: https://pypi.org/simple, https://us-python.pkg.dev/colab-wheels/public/simple/\n",
            "Collecting torchdata\n",
            "  Downloading torchdata-0.4.1-cp37-cp37m-manylinux_2_17_x86_64.manylinux2014_x86_64.whl (4.4 MB)\n",
            "\u001b[K     |████████████████████████████████| 4.4 MB 2.1 MB/s \n",
            "\u001b[?25hCollecting torch==1.12.1\n",
            "  Downloading torch-1.12.1-cp37-cp37m-manylinux1_x86_64.whl (776.3 MB)\n",
            "\u001b[K     |████████████████████████████████| 776.3 MB 12 kB/s \n",
            "\u001b[?25hCollecting portalocker>=2.0.0\n",
            "  Downloading portalocker-2.5.1-py2.py3-none-any.whl (15 kB)\n",
            "Collecting requests\n",
            "  Downloading requests-2.28.1-py3-none-any.whl (62 kB)\n",
            "\u001b[K     |████████████████████████████████| 62 kB 1.5 MB/s \n",
            "\u001b[?25hCollecting urllib3>=1.25\n",
            "  Downloading urllib3-1.26.12-py2.py3-none-any.whl (140 kB)\n",
            "\u001b[K     |████████████████████████████████| 140 kB 59.2 MB/s \n",
            "\u001b[?25hCollecting typing-extensions\n",
            "  Downloading typing_extensions-4.3.0-py3-none-any.whl (25 kB)\n",
            "Collecting charset-normalizer<3,>=2\n",
            "  Downloading charset_normalizer-2.1.1-py3-none-any.whl (39 kB)\n",
            "Collecting certifi>=2017.4.17\n",
            "  Downloading certifi-2022.9.24-py3-none-any.whl (161 kB)\n",
            "\u001b[K     |████████████████████████████████| 161 kB 50.3 MB/s \n",
            "\u001b[?25hCollecting idna<4,>=2.5\n",
            "  Downloading idna-3.4-py3-none-any.whl (61 kB)\n",
            "\u001b[K     |████████████████████████████████| 61 kB 117 kB/s \n",
            "\u001b[?25hInstalling collected packages: urllib3, typing-extensions, idna, charset-normalizer, certifi, torch, requests, portalocker, torchdata\n",
            "\u001b[31mERROR: pip's dependency resolver does not currently take into account all the packages that are installed. This behaviour is the source of the following dependency conflicts.\n",
            "thinc 8.1.0 requires typing-extensions<4.2.0,>=3.7.4.1; python_version < \"3.8\", but you have typing-extensions 4.3.0 which is incompatible.\n",
            "spacy 3.4.1 requires typing-extensions<4.2.0,>=3.7.4; python_version < \"3.8\", but you have typing-extensions 4.3.0 which is incompatible.\u001b[0m\n",
            "Successfully installed certifi-2022.9.24 charset-normalizer-2.1.1 idna-3.4 portalocker-2.5.1 requests-2.28.1 torch-1.12.1 torchdata-0.4.1 typing-extensions-4.3.0 urllib3-1.26.12\n",
            "\u001b[33mWARNING: Target directory /content/drive/MyDrive/DIR_FOR_PKGS/torchdata-0.4.1.dist-info already exists. Specify --upgrade to force replacement.\u001b[0m\n",
            "\u001b[33mWARNING: Target directory /content/drive/MyDrive/DIR_FOR_PKGS/typing_extensions-4.3.0.dist-info already exists. Specify --upgrade to force replacement.\u001b[0m\n",
            "\u001b[33mWARNING: Target directory /content/drive/MyDrive/DIR_FOR_PKGS/typing_extensions.py already exists. Specify --upgrade to force replacement.\u001b[0m\n",
            "\u001b[33mWARNING: Target directory /content/drive/MyDrive/DIR_FOR_PKGS/idna-3.4.dist-info already exists. Specify --upgrade to force replacement.\u001b[0m\n",
            "\u001b[33mWARNING: Target directory /content/drive/MyDrive/DIR_FOR_PKGS/certifi-2022.9.24.dist-info already exists. Specify --upgrade to force replacement.\u001b[0m\n",
            "\u001b[33mWARNING: Target directory /content/drive/MyDrive/DIR_FOR_PKGS/portalocker-2.5.1.dist-info already exists. Specify --upgrade to force replacement.\u001b[0m\n",
            "\u001b[33mWARNING: Target directory /content/drive/MyDrive/DIR_FOR_PKGS/requests-2.28.1.dist-info already exists. Specify --upgrade to force replacement.\u001b[0m\n",
            "\u001b[33mWARNING: Target directory /content/drive/MyDrive/DIR_FOR_PKGS/torchgen already exists. Specify --upgrade to force replacement.\u001b[0m\n",
            "\u001b[33mWARNING: Target directory /content/drive/MyDrive/DIR_FOR_PKGS/urllib3 already exists. Specify --upgrade to force replacement.\u001b[0m\n",
            "\u001b[33mWARNING: Target directory /content/drive/MyDrive/DIR_FOR_PKGS/portalocker already exists. Specify --upgrade to force replacement.\u001b[0m\n",
            "\u001b[33mWARNING: Target directory /content/drive/MyDrive/DIR_FOR_PKGS/caffe2 already exists. Specify --upgrade to force replacement.\u001b[0m\n",
            "\u001b[33mWARNING: Target directory /content/drive/MyDrive/DIR_FOR_PKGS/__pycache__ already exists. Specify --upgrade to force replacement.\u001b[0m\n",
            "\u001b[33mWARNING: Target directory /content/drive/MyDrive/DIR_FOR_PKGS/charset_normalizer-2.1.1.dist-info already exists. Specify --upgrade to force replacement.\u001b[0m\n",
            "\u001b[33mWARNING: Target directory /content/drive/MyDrive/DIR_FOR_PKGS/requests already exists. Specify --upgrade to force replacement.\u001b[0m\n",
            "\u001b[33mWARNING: Target directory /content/drive/MyDrive/DIR_FOR_PKGS/torch-1.12.1.dist-info already exists. Specify --upgrade to force replacement.\u001b[0m\n",
            "\u001b[33mWARNING: Target directory /content/drive/MyDrive/DIR_FOR_PKGS/idna already exists. Specify --upgrade to force replacement.\u001b[0m\n",
            "\u001b[33mWARNING: Target directory /content/drive/MyDrive/DIR_FOR_PKGS/torch already exists. Specify --upgrade to force replacement.\u001b[0m\n",
            "\u001b[33mWARNING: Target directory /content/drive/MyDrive/DIR_FOR_PKGS/certifi already exists. Specify --upgrade to force replacement.\u001b[0m\n",
            "\u001b[33mWARNING: Target directory /content/drive/MyDrive/DIR_FOR_PKGS/urllib3-1.26.12.dist-info already exists. Specify --upgrade to force replacement.\u001b[0m\n",
            "\u001b[33mWARNING: Target directory /content/drive/MyDrive/DIR_FOR_PKGS/torchdata already exists. Specify --upgrade to force replacement.\u001b[0m\n",
            "\u001b[33mWARNING: Target directory /content/drive/MyDrive/DIR_FOR_PKGS/charset_normalizer already exists. Specify --upgrade to force replacement.\u001b[0m\n",
            "\u001b[33mWARNING: Target directory /content/drive/MyDrive/DIR_FOR_PKGS/bin already exists. Specify --upgrade to force replacement.\u001b[0m\n"
          ]
        }
      ]
    },
    {
      "cell_type": "code",
      "execution_count": 5,
      "metadata": {
        "colab": {
          "base_uri": "https://localhost:8080/"
        },
        "id": "g_3xFeJ3Fzgn",
        "outputId": "da80a5b5-357a-4d76-91c8-51753e5bda0c"
      },
      "outputs": [
        {
          "output_type": "stream",
          "name": "stdout",
          "text": [
            "Drive already mounted at /content/drive; to attempt to forcibly remount, call drive.mount(\"/content/drive\", force_remount=True).\n"
          ]
        }
      ],
      "source": [
        "# Mount your drive\n",
        "import os\n",
        "import sys\n",
        "from google.colab import drive\n",
        "drive.mount('/content/drive')\n",
        "pkg_path = '/content/drive/MyDrive/DIR_FOR_PKGS' #Please specify the path where you installed torchdata\n",
        "sys.path.append(pkg_path)"
      ]
    },
    {
      "cell_type": "code",
      "source": [
        "pip install torchdata"
      ],
      "metadata": {
        "colab": {
          "base_uri": "https://localhost:8080/"
        },
        "id": "ch2nmigbP9Pp",
        "outputId": "f3258569-e5fc-429c-b9eb-c246ec9c3182"
      },
      "execution_count": 6,
      "outputs": [
        {
          "output_type": "stream",
          "name": "stdout",
          "text": [
            "Looking in indexes: https://pypi.org/simple, https://us-python.pkg.dev/colab-wheels/public/simple/\n",
            "Requirement already satisfied: torchdata in /usr/local/lib/python3.7/dist-packages (0.4.1)\n",
            "Requirement already satisfied: portalocker>=2.0.0 in /usr/local/lib/python3.7/dist-packages (from torchdata) (2.5.1)\n",
            "Requirement already satisfied: requests in /usr/local/lib/python3.7/dist-packages (from torchdata) (2.23.0)\n",
            "Requirement already satisfied: torch==1.12.1 in /usr/local/lib/python3.7/dist-packages (from torchdata) (1.12.1+cu113)\n",
            "Requirement already satisfied: urllib3>=1.25 in /usr/local/lib/python3.7/dist-packages (from torchdata) (1.25.11)\n",
            "Requirement already satisfied: typing-extensions in /usr/local/lib/python3.7/dist-packages (from torch==1.12.1->torchdata) (4.1.1)\n",
            "Requirement already satisfied: chardet<4,>=3.0.2 in /usr/local/lib/python3.7/dist-packages (from requests->torchdata) (3.0.4)\n",
            "Requirement already satisfied: certifi>=2017.4.17 in /usr/local/lib/python3.7/dist-packages (from requests->torchdata) (2022.6.15)\n",
            "Requirement already satisfied: idna<3,>=2.5 in /usr/local/lib/python3.7/dist-packages (from requests->torchdata) (2.10)\n"
          ]
        }
      ]
    },
    {
      "cell_type": "code",
      "source": [
        "# Package Loading\n",
        "# Feel free to add pakcages\n",
        "\n",
        "import torchdata\n",
        "import torch\n",
        "import torch.nn as nn\n",
        "import torchtext.transforms as T\n",
        "import torchtext.functional as F\n",
        "from torchtext.datasets import SST2\n",
        "from torch.utils.data import DataLoader\n",
        "from torch.hub import load_state_dict_from_url\n",
        "device = torch.device(\"cuda\") if torch.cuda.is_available() else torch.device(\"cpu\")"
      ],
      "metadata": {
        "id": "MRzytmA9F5Ko"
      },
      "execution_count": 7,
      "outputs": []
    },
    {
      "cell_type": "code",
      "source": [
        "# Prepare data loader\n",
        "# Feel free to modify the data loading process as needed\n",
        "padding_idx = 1\n",
        "bos_idx = 0\n",
        "eos_idx = 2\n",
        "batch_size = 16\n",
        "max_seq_len = 256\n",
        "# You can use other Tokenizer\n",
        "xlmr_vocab_path = r\"https://download.pytorch.org/models/text/xlmr.vocab.pt\"\n",
        "xlmr_spm_model_path = r\"https://download.pytorch.org/models/text/xlmr.sentencepiece.bpe.model\"\n",
        "xmlr_vocab = load_state_dict_from_url(xlmr_vocab_path)\n",
        "\n",
        "text_transform = T.Sequential(\n",
        "    T.SentencePieceTokenizer(xlmr_spm_model_path),\n",
        "    T.VocabTransform(xmlr_vocab),\n",
        "    T.Truncate(max_seq_len - 2),\n",
        "    T.AddToken(token=bos_idx, begin=True),\n",
        "    T.AddToken(token=eos_idx, begin=False),\n",
        ")\n",
        "\n",
        "train_datapipe = SST2(split=\"train\")\n",
        "test_datapipe = SST2(split=\"dev\")\n",
        "\n",
        "def apply_transform(x):\n",
        "    return text_transform(x[0]), x[1]\n",
        "\n",
        "train_datapipe = train_datapipe.map(apply_transform)\n",
        "train_datapipe = train_datapipe.batch(batch_size)\n",
        "train_datapipe = train_datapipe.rows2columnar([\"token_ids\", \"target\"])\n",
        "train_dataloader = DataLoader(train_datapipe, batch_size=None)\n",
        "\n",
        "test_datapipe = test_datapipe.map(apply_transform)\n",
        "test_datapipe = test_datapipe.batch(batch_size)\n",
        "test_datapipe = test_datapipe.rows2columnar([\"token_ids\", \"target\"])\n",
        "test_dataloader = DataLoader(test_datapipe, batch_size=None)"
      ],
      "metadata": {
        "id": "zLGsNcZ6F7Vj",
        "colab": {
          "base_uri": "https://localhost:8080/",
          "height": 85,
          "referenced_widgets": [
            "7cad196792404d77bf5aeb4e4eca8de8",
            "f0510d2e3d234247806eaae036994c64",
            "490d2c7768ce4310985e350e65e215e5",
            "a34cf05b7e7b4f9396b46f636a464cee",
            "55274d89a0824186afecf1e985bb03ca",
            "63f2485d58a94ec3a94282400d1b7ab3",
            "4e2ccc2e71f540adb2d9df4d7abb1a98",
            "47ce11949b1b4d2780c49c139e9fd61e",
            "923ff8b7c4f4491f9d4669a730187250",
            "5b3c074447bf43daac896d92bb554dfe",
            "d00cdf2b01fd403aa97560fe07152c38"
          ]
        },
        "outputId": "70b590fc-513e-4399-8979-2a856a6c0b63"
      },
      "execution_count": 8,
      "outputs": [
        {
          "output_type": "stream",
          "name": "stderr",
          "text": [
            "Downloading: \"https://download.pytorch.org/models/text/xlmr.vocab.pt\" to /root/.cache/torch/hub/checkpoints/xlmr.vocab.pt\n"
          ]
        },
        {
          "output_type": "display_data",
          "data": {
            "text/plain": [
              "  0%|          | 0.00/4.85M [00:00<?, ?B/s]"
            ],
            "application/vnd.jupyter.widget-view+json": {
              "version_major": 2,
              "version_minor": 0,
              "model_id": "7cad196792404d77bf5aeb4e4eca8de8"
            }
          },
          "metadata": {}
        },
        {
          "output_type": "stream",
          "name": "stderr",
          "text": [
            "100%|██████████| 5.07M/5.07M [00:00<00:00, 23.0MB/s]\n"
          ]
        }
      ]
    },
    {
      "cell_type": "markdown",
      "source": [
        "### **Problem Description.** Implement **LSTM** with Pytorch to do binary classification.\n",
        "\n",
        "### (a) (15 points) Print the model architecture."
      ],
      "metadata": {
        "id": "QzU9SoM_fkAg"
      }
    },
    {
      "cell_type": "code",
      "source": [
        "from torch.nn.modules.rnn import LSTM\n",
        "from torch.autograd import Variable\n",
        "## Code:\n",
        "class LSTMClassifier(nn.Module):\n",
        "    def __init__(self, num_classes, input_size, hidden_size, num_layers, seq_length, batch_size):\n",
        "        super(LSTMClassifier, self).__init__()\n",
        "        \n",
        "        self.num_layers = num_layers \n",
        "        self.num_classes = num_classes \n",
        "        self.input_size = input_size \n",
        "        self.hidden_size = hidden_size \n",
        "        self.seq_length = seq_length \n",
        "        self.lstm = nn.LSTM(input_size=input_size, hidden_size=hidden_size,num_layers=num_layers, batch_first=True)\n",
        "        \n",
        "        \n",
        "        self.fc_1 =  nn.Linear(hidden_size, 128) \n",
        "        self.fc = nn.Linear(128, num_classes) \n",
        "        self.relu = nn.ReLU()\n",
        "    \n",
        "    def forward(self,x):\n",
        "        h_0 = Variable(torch.zeros(self.num_layers, x.size(0), self.hidden_size)) \n",
        "        c_0 = Variable(torch.zeros(self.num_layers, x.size(0), self.hidden_size)) \n",
        "        output, (hn, cn) = self.lstm(x, (h_0, c_0)) \n",
        "        hn = hn.view(-1, self.hidden_size) \n",
        "        out = self.relu(hn)\n",
        "        out = self.fc_1(out) \n",
        "        out = self.relu(out) \n",
        "        test_out = self.fc(out) \n",
        "        return test_out\n"
      ],
      "metadata": {
        "id": "aRLxw5LIf_ml"
      },
      "execution_count": 22,
      "outputs": []
    },
    {
      "cell_type": "markdown",
      "source": [
        "### (b) (10 points) Report the hyper-parameters (number of epochs, learning rate, momentum, weight_decay etc)."
      ],
      "metadata": {
        "id": "vSd9yYv8fu2K"
      }
    },
    {
      "cell_type": "code",
      "source": [
        "LSTMClassifier(num_classes=1, input_size=768, hidden_size=128, num_layers=1, seq_length=max_seq_len, batch_size=batch_size)"
      ],
      "metadata": {
        "colab": {
          "base_uri": "https://localhost:8080/"
        },
        "id": "okpiwiP5RMl-",
        "outputId": "0571460e-05c5-45a5-f2cb-4a954b470953"
      },
      "execution_count": 23,
      "outputs": [
        {
          "output_type": "execute_result",
          "data": {
            "text/plain": [
              "LSTMClassifier(\n",
              "  (lstm): LSTM(768, 128, batch_first=True)\n",
              "  (fc_1): Linear(in_features=128, out_features=128, bias=True)\n",
              "  (fc): Linear(in_features=128, out_features=1, bias=True)\n",
              "  (relu): ReLU()\n",
              ")"
            ]
          },
          "metadata": {},
          "execution_count": 23
        }
      ]
    },
    {
      "cell_type": "markdown",
      "source": [
        "Answer:# of epochs: 10; learning rate: 0.01; momentum: 0.9; weight-decay: 0.001;"
      ],
      "metadata": {
        "id": "nyaK8gHOgch-"
      }
    },
    {
      "cell_type": "markdown",
      "source": [
        "### (c) (60 points) Report the **Average Test Loss** after every training epoch by generating Average Test Loss vs. Epoch plot. Please report at least **10** epochs. Note that **Average Test Loss** is based on the test set.\n"
      ],
      "metadata": {
        "id": "NWkYLZMxgapU"
      }
    },
    {
      "cell_type": "code",
      "source": [
        "## Code:\n",
        "import numpy as np\n",
        "num_epochs = 10\n",
        "learning_rate = 0.01\n",
        "momentum = 0.9\n",
        "weight_decay = 0.001\n",
        "criterion = nn.BCEWithLogitsLoss()\n",
        "model = LSTMClassifier(num_classes=1, input_size=768, hidden_size=128, num_layers=1, seq_length=max_seq_len, batch_size=batch_size)\n",
        "optimizer = torch.optim.SGD(model.parameters(), lr=learning_rate, momentum=momentum, weight_decay=weight_decay)\n",
        "\n",
        "epoch_loss = []\n",
        "for epoch in range(num_epochs):\n",
        "    total_loss = 0\n",
        "    run = 0\n",
        "    correct = 0\n",
        "    total = 0\n",
        "    for batch in train_dataloader:\n",
        "        input = Variable(F.to_tensor(batch[\"token_ids\"], padding_value=padding_idx).to(device=device, dtype=torch.float)).unsqueeze(1)\n",
        "        input = nn.ConstantPad1d((0, 768 - input.size(2)), 0)(input)\n",
        "        target = torch.tensor(batch[\"target\"]).to(device=device, dtype=torch.float).unsqueeze(1)\n",
        "\n",
        "        outputs = model(input)\n",
        "        loss = criterion(outputs, target)\n",
        "        \n",
        "        optimizer.zero_grad()\n",
        "        loss.backward()\n",
        "        optimizer.step()\n",
        "\n",
        "    for test in test_dataloader:\n",
        "        testinput = Variable(F.to_tensor(test[\"token_ids\"], padding_value=padding_idx).to(device=device, dtype=torch.float)).unsqueeze(1)\n",
        "        testinput = nn.ConstantPad1d((0, 768 - testinput.size(2)), 0)(testinput)\n",
        "        testtarget = torch.tensor(test[\"target\"]).to(device=device, dtype=torch.float).unsqueeze(1)\n",
        "\n",
        "        testoutputs = model(testinput)\n",
        "        testloss = criterion(testoutputs, testtarget)\n",
        "\n",
        "        predicted = testoutputs.round().detach().numpy()\n",
        "        total += testtarget.size(0)\n",
        "        correct += np.sum((predicted == testtarget.detach().numpy()))\n",
        "\n",
        "        total_loss += testloss.item()\n",
        "        run += 1\n",
        "    \n",
        "    epoch_loss.append(total_loss/run)\n",
        "    print(\"Epoch = \" ,epoch + 1,\" loss = \",total_loss / run,\"accuracy = \", 100 * correct / total)\n",
        "\n",
        "accuracy = 100 * correct / total\n"
      ],
      "metadata": {
        "id": "UE2kSHxzg29o",
        "colab": {
          "base_uri": "https://localhost:8080/"
        },
        "outputId": "34a3e2ec-e0b6-4d7c-ba42-67429996651e"
      },
      "execution_count": 26,
      "outputs": [
        {
          "output_type": "stream",
          "name": "stderr",
          "text": [
            "/usr/local/lib/python3.7/dist-packages/torch/utils/data/datapipes/iter/combining.py:249: UserWarning: Some child DataPipes are not exhausted when __iter__ is called. We are resetting the buffer and each child DataPipe will read from the start again.\n",
            "  \"the buffer and each child DataPipe will read from the start again.\", UserWarning)\n"
          ]
        },
        {
          "output_type": "stream",
          "name": "stdout",
          "text": [
            "Epoch = [1], loss = 0.6945618792013688, accuracy = 49.08256880733945\n",
            "Epoch = [2], loss = 0.694689002904025, accuracy = 49.08256880733945\n",
            "Epoch = [3], loss = 0.6937473860653964, accuracy = 49.08256880733945\n",
            "Epoch = [4], loss = 0.6937277566302906, accuracy = 49.08256880733945\n",
            "Epoch = [5], loss = 0.6946245735341853, accuracy = 49.08256880733945\n",
            "Epoch = [6], loss = 0.6933369972489097, accuracy = 49.08256880733945\n",
            "Epoch = [7], loss = 0.6961890090595592, accuracy = 49.08256880733945\n",
            "Epoch = [8], loss = 0.6943070585077459, accuracy = 49.08256880733945\n",
            "Epoch = [9], loss = 0.6940525434233925, accuracy = 49.08256880733945\n",
            "Epoch = [10], loss = 0.6940406409176914, accuracy = 49.08256880733945\n"
          ]
        }
      ]
    },
    {
      "cell_type": "code",
      "source": [
        "## Plot:\n",
        "from matplotlib import pyplot as plt\n",
        "plt.plot(range(1,11), epoch_loss)\n",
        "plt.xlabel('Epochs')\n",
        "plt.ylabel('Average Loss')\n",
        "plt.title('The test loss on each epoch')"
      ],
      "metadata": {
        "id": "0yM6NLFig4bF",
        "colab": {
          "base_uri": "https://localhost:8080/",
          "height": 313
        },
        "outputId": "634fb0de-9b70-4c6f-9682-db4c1902bf0e"
      },
      "execution_count": 21,
      "outputs": [
        {
          "output_type": "execute_result",
          "data": {
            "text/plain": [
              "Text(0.5, 1.0, 'The test loss on each epoch')"
            ]
          },
          "metadata": {},
          "execution_count": 21
        },
        {
          "output_type": "display_data",
          "data": {
            "text/plain": [
              "<Figure size 432x288 with 1 Axes>"
            ],
            "image/png": "[encoded data removed]"
          },
          "metadata": {
            "needs_background": "light"
          }
        }
      ]
    },
    {
      "cell_type": "markdown",
      "source": [
        "### (d) (15 points) Report the final testing accuracy of trained model."
      ],
      "metadata": {
        "id": "Rv2InAYwg5j1"
      }
    },
    {
      "cell_type": "code",
      "source": [
        "print(\"The final testing accuracy of trained model is\", accuracy/100)"
      ],
      "metadata": {
        "colab": {
          "base_uri": "https://localhost:8080/"
        },
        "id": "gvX7jCxCYRSA",
        "outputId": "121b1505-e039-491d-880f-ed6d5ea615d5"
      },
      "execution_count": 25,
      "outputs": [
        {
          "output_type": "stream",
          "name": "stdout",
          "text": [
            "The final testing accuracy of trained model is 0.4908256880733945\n"
          ]
        }
      ]
    },
    {
      "cell_type": "markdown",
      "source": [
        "Answer:"
      ],
      "metadata": {
        "id": "0bt2-kE9hHtB"
      }
    }
  ]
}